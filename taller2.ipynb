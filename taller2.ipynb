{
  "nbformat": 4,
  "nbformat_minor": 0,
  "metadata": {
    "colab": {
      "provenance": [],
      "authorship_tag": "ABX9TyMsmYBzbMbrE9enLWmv0cJZ",
      "include_colab_link": true
    },
    "kernelspec": {
      "name": "python3",
      "display_name": "Python 3"
    },
    "language_info": {
      "name": "python"
    }
  },
  "cells": [
    {
      "cell_type": "markdown",
      "metadata": {
        "id": "view-in-github",
        "colab_type": "text"
      },
      "source": [
        "<a href=\"https://colab.research.google.com/github/juliann2305/Taller2_RosiyJuli./blob/main/taller2.ipynb\" target=\"_parent\"><img src=\"https://colab.research.google.com/assets/colab-badge.svg\" alt=\"Open In Colab\"/></a>"
      ]
    },
    {
      "cell_type": "code",
      "execution_count": null,
      "metadata": {
        "id": "qGyhcMdNE0NG"
      },
      "outputs": [],
      "source": []
    },
    {
      "cell_type": "markdown",
      "source": [
        "\n",
        "\n",
        "```\n",
        "# Ejercicio Factura Electrica\n",
        "Algoritmo\n",
        "1. Iniciar\n",
        "2. Obtener el consumo de energia electrica consumida en kWh\n",
        "3. Obtener el costo_kwh (costo unitario del kWh en el mes en peso colombianos)\n",
        "4. Obtener el estrato socioeconomico\n",
        "5. Obtener la altitud de la zona\n",
        "6. Si la altitud es mayor a 1000m entonces consumo basico es igual a 130kWh; Si la altitud es menor o igual de 1000m entonces el consumo basico es de 173kWh.\n",
        "7. Si el consumo es menor a 130kWh entonces el consumo subsidiado es el consumo; Si el consumo es mayor a 130kWh entoces el consumo subsidiado es 130 y el usuario paga el consumo adicional; Si el consumo es menor a 173kWh entonces el consumo subsidiado es el consumo; Si el consumo es mayor a 173kWh entonces el consumo subsidiado es 173 y el usuario paga el consumo adicional\n",
        "8. Si el estrato es 1, el subsidio es de 0.6 * consumo basico; Si el estrato es 2, el subsidio es de 0.5 * consumo basico; Si el estrato es 3, el subsidio es de 0.15 * consumo basico; Si el estrato es de 4, el subsidio es de 0; Si el estrato es de 5, 6 u otro, la contribucion esde 0.2 * consumo basico\n",
        "9. Calcular el total a pagar en pesos colombianos mediante TotalAPagar = (consumo basico * costo_kwh) + consumo adicional + contribucion - subsidio\n",
        "10. Mostrar el TotalAPagar\n",
        "11. Fin\n",
        "\n",
        "Pseudocodigo\n",
        "Program FacrturaElectrica\n",
        "Start\n",
        "\n",
        "// Porgrama para calcular el valor de la factura de la energia electrica\n",
        "Declare float consumo_basico\n",
        "Declare float consumo\n",
        "Declare float costo_kwh\n",
        "Declare int estrato\n",
        "Declare float altitud\n",
        "Declare float subsidio\n",
        "Declare float contribucion\n",
        "Declare float total\n",
        "Declare float consumo_adicional\n",
        "\n",
        "Display \"Ingrese el consumo en kWh: \"\n",
        "Input consumo\n",
        "\n",
        "Display \"Ingrese el costo_kwh: \"\n",
        "Input costo_kwh\n",
        "\n",
        "Display \"Ingrese el estrato: \"\n",
        "Input estrato\n",
        "\n",
        "Display \"Ingrese la altitud: \"\n",
        "Input altitud\n",
        "\n",
        "If altitud > 1000 then\n",
        "   set consumo_basico = 130\n",
        "\n",
        "Else\n",
        "   set consumo_basico = 173\n",
        "end\n",
        "\n",
        "total_consumo = consumo * costo_kwh\n",
        "\n",
        "If consumo > consumo_basico\n",
        "   set excedente = (consumo - consumo_subsistencia) * costo_kwh\n",
        "\n",
        "If estrato == 1 Then\n",
        "   set subsidio = 0.6 * consumo_basico * costo_kwh\n",
        "   set contribucion = 0\n",
        "\n",
        "Else if estrato == 2 Then\n",
        "   set subsidio = 0.5 * consumo_basico * costo_kwh\n",
        "  sert contribucion = 0\n",
        "\n",
        "Else if estrato == 3 Then\n",
        "   set subsidio = 0.15 * consumo_basico * costo_kwh\n",
        "   set contribucion = 0\n",
        "\n",
        "Else if estrato == 4 Then\n",
        "   set subsidio = 0\n",
        "   set contribucion = 0\n",
        "\n",
        "Else\n",
        "   set subsidio = 0\n",
        "   set contribucion = 0.2 * consumo_basico * costo_kwh\n",
        "End\n",
        "\n",
        "Set total_factura = total_consumo + contribucion - subsidio + consumo_adicional\n",
        "\n",
        "\n",
        "\n",
        "\n",
        "```\n",
        "\n"
      ],
      "metadata": {
        "id": "IBL8ILvpFHT1"
      }
    },
    {
      "cell_type": "code",
      "source": [
        "consumo = float(input(\"Ingrese los kWh consumidos en el mes: \"))\n",
        "costo_kwh = float(input(\"Ingrese el costo por kWh del mes: \"))\n",
        "estrato = int(input(\"Ingrese el estrato (1 - 7, siendo 7 usuario comercial): \"))\n",
        "altitud = float(input(\"Ingrese la altura sobre el nivel del mar: \"))\n",
        "\n",
        "# Calcular el consumo basico segun altitud\n",
        "if altitud >= 1000:\n",
        "  consumo_basico = 130\n",
        "else:\n",
        "  consumo_basico = 173\n",
        "\n",
        "total_consumo = consumo * costo_kwh\n",
        "\n",
        "# Calcular el subsidio segun estrato\n",
        "if estrato == 1:\n",
        "  subsidio = consumo_basico * costo_kwh * 0.60\n",
        "elif estrato == 2:\n",
        "  subsidio = consumo_basico * costo_kwh * 0.50\n",
        "elif estrato == 3:\n",
        "  subsidio = consumo_basico * costo_kwh * 0.15\n",
        "else:\n",
        "  subsidio = 0\n",
        "\n",
        "# Calcular el consumo adicional\n",
        "if consumo > consumo_basico:\n",
        "  consumo_adicional = (consumo - consumo_basico) * costo_kwh\n",
        "else:\n",
        "  consumo_adicional = 0\n",
        "\n",
        "# Calcular la contribución según el estrato\n",
        "if estrato >= 5 or estrato == 7:\n",
        "  contribucion = total_consumo * 0.20\n",
        "else:\n",
        "  contribucion = 0\n",
        "\n",
        "# Calcular el total de la factura\n",
        "total_factura = total_consumo - subsidio + contribucion\n",
        "\n",
        "# Mostrar resultados\n",
        "print(\"Consumo: \", consumo)\n",
        "print(\"Costo kWh: $\", costo_kwh)\n",
        "print(\"Estrato: \", estrato)\n",
        "print(\"Consumo básico: $\", consumo_basico * costo_kwh)\n",
        "print(\"Consumo adicional: $\", consumo_adicional)\n",
        "print(\"Subsidio: $\", subsidio)\n",
        "print(\"Contribución: $\", contribucion)\n",
        "print(\"El costo total de la factura es: $\", total_factura)"
      ],
      "metadata": {
        "colab": {
          "base_uri": "https://localhost:8080/"
        },
        "id": "ediR9ffVUgXq",
        "outputId": "aae2794a-1dbe-4a1a-c019-95bc98c6e9fb"
      },
      "execution_count": 6,
      "outputs": [
        {
          "output_type": "stream",
          "name": "stdout",
          "text": [
            "Ingrese los kWh consumidos en el mes: 6.55\n",
            "Ingrese el costo por kWh del mes: 8000\n",
            "Ingrese el estrato (1 - 7, siendo 7 usuario comercial): 1\n",
            "Ingrese la altura sobre el nivel del mar: 12000\n",
            "Consumo:  6.55\n",
            "Costo kWh: $ 8000.0\n",
            "Estrato:  1\n",
            "Consumo básico: $ 1040000.0\n",
            "Consumo adicional: $ 0\n",
            "Subsidio: $ 624000.0\n",
            "Contribución: $ 0\n",
            "El costo total de la factura es: $ -571600.0\n"
          ]
        }
      ]
    }
  ]
}